{
 "cells": [
  {
   "cell_type": "markdown",
   "id": "0a381c55-6573-416a-9bf5-4cc94c932bb4",
   "metadata": {},
   "source": [
    "# Programming Assignment 2\n",
    "---\n",
    "**Author:** Yeva Kramarova  \n",
    "**Version:** 1.0  \n",
    "**Semester:** Spring 2024 \n",
    "\n",
    "This *notebook* contains my solution(s) to **Programming Assignment 2**\n",
    "\n",
    "- Problem 1: Printing Numbers.\n",
    "- Problem 2: Age Status.\n",
    "- Problem 3: Age Status v2.\n",
    "- Problem 4: Calculating Pi."
   ]
  },
  {
   "cell_type": "markdown",
   "id": "169643e3-44f2-4b49-a1c5-8d48d4a6425b",
   "metadata": {},
   "source": [
    "### Problem 1 - Printing Numbers"
   ]
  },
  {
   "cell_type": "code",
   "execution_count": 6,
   "id": "f6f9f2bf-2e6f-434a-9139-cb98c2e44319",
   "metadata": {
    "tags": []
   },
   "outputs": [
    {
     "name": "stdout",
     "output_type": "stream",
     "text": [
      "0\n",
      "1\n",
      "2\n",
      "3\n",
      "4\n",
      "5\n",
      "6 *\n",
      "7\n",
      "8\n",
      "9 *\n",
      "10\n",
      "11\n",
      "12 *\n",
      "13\n",
      "14\n",
      "15 *\n",
      "16\n",
      "17\n",
      "18 *\n",
      "19\n",
      "20\n",
      "21 *\n",
      "22\n",
      "23\n",
      "24 *\n",
      "25\n",
      "26\n",
      "27 *\n",
      "28\n",
      "29\n",
      "30 *\n",
      "31\n",
      "32\n",
      "33 *\n",
      "34\n",
      "35\n",
      "36 *\n",
      "37\n",
      "38\n",
      "39 *\n",
      "40\n",
      "41\n",
      "42 *\n",
      "43\n",
      "44\n",
      "45 *\n",
      "46\n",
      "47\n",
      "48 *\n",
      "49\n",
      "50\n",
      "51 *\n",
      "52\n",
      "53\n",
      "54 *\n",
      "55\n",
      "56\n",
      "57 *\n",
      "58\n",
      "59\n",
      "60 *\n",
      "61\n",
      "62\n",
      "63 *\n",
      "64\n",
      "65\n",
      "66 *\n",
      "67\n",
      "68\n",
      "69 *\n",
      "70\n",
      "71\n",
      "72 *\n",
      "73\n",
      "74\n",
      "75 *\n",
      "76\n",
      "77\n",
      "78 *\n",
      "79\n",
      "80\n",
      "81 *\n",
      "82\n",
      "83\n",
      "84 *\n",
      "85\n",
      "86\n",
      "87 *\n",
      "88\n",
      "89\n",
      "90 *\n",
      "91\n",
      "92\n",
      "93 *\n",
      "94\n",
      "95\n",
      "96 *\n",
      "97\n",
      "98\n",
      "99 *\n",
      "100\n"
     ]
    }
   ],
   "source": [
    "for n in range(101):\n",
    "    if n != 0 and n != 3 and n % 3 == 0:\n",
    "        print(n, \"*\")\n",
    "    else:\n",
    "        print (n)"
   ]
  },
  {
   "cell_type": "markdown",
   "id": "21d18b87-6329-4497-a7a3-7c0c9bfe24bf",
   "metadata": {},
   "source": [
    "### Problem 2 - Age Status"
   ]
  },
  {
   "cell_type": "code",
   "execution_count": 23,
   "id": "4b2cf7d8-cded-46b3-a7bd-5753f7a92ecc",
   "metadata": {
    "tags": []
   },
   "outputs": [
    {
     "name": "stdin",
     "output_type": "stream",
     "text": [
      "What is the subject's age? 9\n"
     ]
    },
    {
     "name": "stdout",
     "output_type": "stream",
     "text": [
      "Minor\n"
     ]
    },
    {
     "name": "stdin",
     "output_type": "stream",
     "text": [
      "What is the subject's age? 69\n"
     ]
    },
    {
     "name": "stdout",
     "output_type": "stream",
     "text": [
      "Senior Citizen\n"
     ]
    },
    {
     "name": "stdin",
     "output_type": "stream",
     "text": [
      "What is the subject's age? 56\n"
     ]
    },
    {
     "name": "stdout",
     "output_type": "stream",
     "text": [
      "Adult\n"
     ]
    },
    {
     "name": "stdin",
     "output_type": "stream",
     "text": [
      "What is the subject's age? 0\n"
     ]
    },
    {
     "name": "stdout",
     "output_type": "stream",
     "text": [
      "Done!\n"
     ]
    }
   ],
   "source": [
    "age = input(\"What is the subject's age?\")\n",
    "while age!=\"0\":\n",
    "    age = int(age)\n",
    "    if age < 18:\n",
    "        output=f'Minor'\n",
    "        print(output)\n",
    "    elif 18 <= age <= 64:\n",
    "        output=f'Adult'\n",
    "        print(output)\n",
    "    else:\n",
    "        65 <= age\n",
    "        output=f'Senior Citizen'\n",
    "        print(output)\n",
    "    age = input(\"What is the subject's age?\")\n",
    "print('Done!')"
   ]
  },
  {
   "cell_type": "markdown",
   "id": "8d78fcb4-bb68-49d5-afe6-d2cee6f145d1",
   "metadata": {},
   "source": [
    "### Problem 3 - Age Status v2"
   ]
  },
  {
   "cell_type": "code",
   "execution_count": 13,
   "id": "ce02a5f9-8235-4c4e-acab-8827415468b5",
   "metadata": {
    "tags": []
   },
   "outputs": [],
   "source": [
    "ages = [65,78,34,56,12,9,43,67]"
   ]
  },
  {
   "cell_type": "code",
   "execution_count": 21,
   "id": "360eaf1c-edcf-479c-9d4f-72d4277b5162",
   "metadata": {
    "tags": []
   },
   "outputs": [
    {
     "name": "stdout",
     "output_type": "stream",
     "text": [
      "65: Senior Citizen\n",
      "78: Senior Citizen\n",
      "34: Adult\n",
      "56: Adult\n",
      "12: Minor\n",
      "9: Minor\n",
      "43: Adult\n",
      "67: Senior Citizen\n"
     ]
    }
   ],
   "source": [
    "ages = [65,78,34,56,12,9,43,67]\n",
    "for a in ages:\n",
    "    if a < 18:\n",
    "        print(f'{a}: Minor')\n",
    "    elif 18 <= a <= 64:\n",
    "        print(f'{a}: Adult')\n",
    "    else:\n",
    "        65 <= a\n",
    "        print(f'{a}: Senior Citizen')"
   ]
  },
  {
   "cell_type": "markdown",
   "id": "4f0c7bd8-0ddf-4e2f-af58-1ec618b76f5f",
   "metadata": {},
   "source": [
    "### Problem 4 - Calculating Pi"
   ]
  },
  {
   "cell_type": "code",
   "execution_count": 2,
   "id": "675936a8-b054-457d-a5a4-52c0f9d591ce",
   "metadata": {
    "tags": []
   },
   "outputs": [
    {
     "name": "stdout",
     "output_type": "stream",
     "text": [
      "π = 3.1315929035585537 using 100 terms.\n",
      "π = 3.140592653839794 using 1000 terms.\n",
      "π = 3.1414926535900345 using 10000 terms.\n",
      "π = 3.1415826535897198 using 100000 terms.\n",
      "π = 3.1415916535897743 using 1000000 terms.\n"
     ]
    }
   ],
   "source": [
    "def estimate_pi(num_iterations):\n",
    "    pi_estimate = 0\n",
    "    sign = 1\n",
    "    denominator = 1\n",
    "    \n",
    "    for i in range(num_iterations):\n",
    "        pi_estimate += sign * 4 / denominator\n",
    "        sign *= -1\n",
    "        denominator += 2\n",
    "    \n",
    "    return pi_estimate\n",
    "\n",
    "\n",
    "iterations_list = [100, 1000, 10000, 100000, 1000000]\n",
    "\n",
    "\n",
    "for num_iterations in iterations_list:\n",
    "    pi_value = estimate_pi(num_iterations)\n",
    "    print(f\"π = {pi_value} using {num_iterations} terms.\")"
   ]
  },
  {
   "cell_type": "code",
   "execution_count": null,
   "id": "f5bde504-b616-4d99-9ddf-c223ad7810d3",
   "metadata": {},
   "outputs": [],
   "source": []
  }
 ],
 "metadata": {
  "kernelspec": {
   "display_name": "Python 3 (ipykernel)",
   "language": "python",
   "name": "python3"
  },
  "language_info": {
   "codemirror_mode": {
    "name": "ipython",
    "version": 3
   },
   "file_extension": ".py",
   "mimetype": "text/x-python",
   "name": "python",
   "nbconvert_exporter": "python",
   "pygments_lexer": "ipython3",
   "version": "3.11.5"
  }
 },
 "nbformat": 4,
 "nbformat_minor": 5
}
